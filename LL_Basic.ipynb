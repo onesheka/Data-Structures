{
 "cells": [
  {
   "cell_type": "markdown",
   "metadata": {},
   "source": [
    "# Linked List Basic - Class and Functions"
   ]
  },
  {
   "cell_type": "markdown",
   "metadata": {},
   "source": [
    "### Node Class"
   ]
  },
  {
   "cell_type": "code",
   "execution_count": 1,
   "metadata": {},
   "outputs": [],
   "source": [
    "class Node:\n",
    "    def __init__(self,data):\n",
    "        self.data = data\n",
    "        self.next =None\n",
    "    def get_next(self):\n",
    "        return self.next"
   ]
  },
  {
   "cell_type": "markdown",
   "metadata": {},
   "source": [
    "### Linked List class"
   ]
  },
  {
   "cell_type": "code",
   "execution_count": 2,
   "metadata": {},
   "outputs": [],
   "source": [
    "class Linked_list:\n",
    "    def __init__(self):\n",
    "        self.head = None  ## head inialized with null value\n",
    "\n",
    "    def traverse_LL(self):  ## for traversing the linked list\n",
    "        current = self.head\n",
    "        while(current!=None):\n",
    "            print(current.data)\n",
    "            print(current.next)\n",
    "            print(\"-----\")\n",
    "            current = current.get_next()\n",
    "    \n",
    "    def length_LL(self):   ## for counting the length of the linked list\n",
    "        current = self.head\n",
    "        count = 0\n",
    "        while(current!=None):\n",
    "            count = count + 1\n",
    "            current = current.get_next()\n",
    "        print(count)\n",
    "        \n",
    "    "
   ]
  },
  {
   "cell_type": "code",
   "execution_count": 3,
   "metadata": {},
   "outputs": [
    {
     "name": "stdout",
     "output_type": "stream",
     "text": [
      "1\n",
      "<__main__.Node object at 0x00000210043BE5F8>\n",
      "-----\n",
      "2\n",
      "<__main__.Node object at 0x00000210043BE710>\n",
      "-----\n",
      "3\n",
      "None\n",
      "-----\n"
     ]
    }
   ],
   "source": [
    "llist = Linked_list()  ## Creating an object of the class\n",
    "llist.head = Node(1)   ## assigning a data value of 1 to the head node\n",
    "n2 = Node(2)\n",
    "llist.head.next = n2   ## chaining the linked list\n",
    "n3 = Node(3)\n",
    "n2.next = n3\n",
    "llist.traverse_LL()"
   ]
  },
  {
   "cell_type": "code",
   "execution_count": null,
   "metadata": {},
   "outputs": [],
   "source": []
  }
 ],
 "metadata": {
  "kernelspec": {
   "display_name": "Python 3",
   "language": "python",
   "name": "python3"
  },
  "language_info": {
   "codemirror_mode": {
    "name": "ipython",
    "version": 3
   },
   "file_extension": ".py",
   "mimetype": "text/x-python",
   "name": "python",
   "nbconvert_exporter": "python",
   "pygments_lexer": "ipython3",
   "version": "3.6.5"
  }
 },
 "nbformat": 4,
 "nbformat_minor": 2
}
