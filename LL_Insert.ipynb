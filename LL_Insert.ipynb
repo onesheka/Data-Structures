{
 "cells": [
  {
   "cell_type": "markdown",
   "metadata": {},
   "source": [
    "# Inserting Values\n",
    "1. At the beginning\n",
    "2. After a node\n",
    "3. In the End"
   ]
  },
  {
   "cell_type": "code",
   "execution_count": 22,
   "metadata": {},
   "outputs": [],
   "source": [
    "class Node:\n",
    "    def __init__(self,data):\n",
    "        self.data = data\n",
    "        self.next = None\n",
    "    def get_Next(self):\n",
    "        return self.next"
   ]
  },
  {
   "cell_type": "code",
   "execution_count": 47,
   "metadata": {},
   "outputs": [],
   "source": [
    "class Linked_list:\n",
    "    def __init__(self):\n",
    "        self.head = None\n",
    "\n",
    "    \n",
    "    def traverse_LL(self):\n",
    "        current = self.head\n",
    "        while(current != None):\n",
    "            print(current.data)\n",
    "            current = current.get_Next()\n",
    "            \n",
    "    def length_LL(self):\n",
    "        current = self.head\n",
    "        count = 0\n",
    "        while(current!=None):\n",
    "            count = count + 1\n",
    "            current = current.get_next\n",
    "        print(count)\n",
    "        \n",
    "    def insert_beg(self,data):  ## insertion at the beginning\n",
    "        newnode = Node(data)\n",
    "        newnode.next = self.head\n",
    "        self.head = newnode\n",
    "        \n",
    "    \n",
    "    def insert_after(self, prev_node, data): ## insertion after a node\n",
    "        newnode = Node(data)\n",
    "        if(prev_node.next==None):\n",
    "            print(\"No\")\n",
    "        else:\n",
    "            newnode.next = prev_node.get_Next()\n",
    "            prev_node.next = newnode\n",
    "        \n",
    "    def insert_end(self,data):     #### insertion at the end\n",
    "        N1 = Node(data)\n",
    "        current = self.head\n",
    "        if(self.head==None):\n",
    "            self.head = N1\n",
    "        else:\n",
    "            while(current.get_Next() != None):\n",
    "                current = current.get_Next()\n",
    "            current.next = N1\n",
    "        \n",
    "        "
   ]
  },
  {
   "cell_type": "code",
   "execution_count": 48,
   "metadata": {},
   "outputs": [
    {
     "name": "stdout",
     "output_type": "stream",
     "text": [
      "Original List:\n",
      "1\n",
      "2\n",
      "3\n",
      "Insert at Beg: \n",
      "0\n",
      "1\n",
      "2\n",
      "3\n",
      "Insertion after n2:\n",
      "0\n",
      "1\n",
      "2\n",
      "7\n",
      "3\n",
      "Insertion at the end: \n",
      "0\n",
      "1\n",
      "2\n",
      "7\n",
      "3\n",
      "100\n"
     ]
    }
   ],
   "source": [
    "llist = Linked_list()\n",
    "llist.head = Node(1)\n",
    "n2 = Node(2)\n",
    "llist.head.next = n2\n",
    "n3 = Node(3)\n",
    "n2.next = n3\n",
    "print(\"Original List:\")\n",
    "llist.traverse_LL()\n",
    "print(\"Insert at Beg: \")\n",
    "llist.insert_beg(0)\n",
    "llist.traverse_LL()\n",
    "print(\"Insertion after n2:\")\n",
    "llist.insert_after(n2,7)\n",
    "llist.traverse_LL()\n",
    "print(\"Insertion at the end: \")\n",
    "llist.insert_end(100)\n",
    "llist.traverse_LL()"
   ]
  },
  {
   "cell_type": "markdown",
   "metadata": {},
   "source": [
    "### Q1. Given a LL containing 3 elements - 5, 3 and 7. Insert 22, 92, 51 at the begining of the LL. Also insert a node<br>at any given position in the LL"
   ]
  },
  {
   "cell_type": "code",
   "execution_count": 49,
   "metadata": {},
   "outputs": [],
   "source": [
    "class Node:\n",
    "    def __init__(self,data):\n",
    "        self.data = data\n",
    "        self.next = None\n",
    "    def get_next(self):\n",
    "        return self.next"
   ]
  },
  {
   "cell_type": "code",
   "execution_count": 88,
   "metadata": {},
   "outputs": [],
   "source": [
    "class Linked_list:\n",
    "    def __init__(self):\n",
    "        self.head = None\n",
    "    \n",
    "    def traverse_LL(self):\n",
    "        current = self.head\n",
    "        while(current!=None):\n",
    "            print(current.data)\n",
    "            current = current.get_next()\n",
    "    \n",
    "    def length_LL(self):\n",
    "        current = self.head\n",
    "        count = 0\n",
    "        while(current!=None):\n",
    "            count = count + 1\n",
    "            current = current.get_next()\n",
    "        return count\n",
    "    \n",
    "    def insert_beg(self,data):\n",
    "        newnode = Node(data)\n",
    "        newnode.next = self.head\n",
    "        self.head = newnode\n",
    "        \n",
    "    def insert_end(self,data):\n",
    "        N1 = Node(data)\n",
    "        current = self.head\n",
    "        if(self.head==None):\n",
    "            self.head = N1\n",
    "        else:\n",
    "            while(current.get_next() != None):\n",
    "                current = current.get_next()\n",
    "            current.next = N1\n",
    "    \n",
    "    def insert_after(self,pos,data):\n",
    "        current = self.head\n",
    "        count = 1\n",
    "        while(count!=pos):\n",
    "            current = current.get_next()\n",
    "            count = count + 1\n",
    "        prev_node = current\n",
    "        newnode = Node(data)\n",
    "        newnode.next = prev_node.get_next()\n",
    "        prev_node.next = newnode\n",
    "    \n",
    "    def insert_at_pos(self,pos,data):\n",
    "        c = self.length_LL() - 1\n",
    "        if(pos>c):\n",
    "            self.insert_end(data)\n",
    "        elif(pos==0):\n",
    "            self.insert_beg(data)\n",
    "        else:\n",
    "            self.insert_after(pos,data)\n",
    "        \n",
    "        "
   ]
  },
  {
   "cell_type": "code",
   "execution_count": 89,
   "metadata": {},
   "outputs": [
    {
     "name": "stdout",
     "output_type": "stream",
     "text": [
      "5\n",
      "3\n",
      "7\n",
      "------------\n",
      "51\n",
      "92\n",
      "22\n",
      "5\n",
      "3\n",
      "7\n",
      "------------\n",
      "51\n",
      "92\n",
      "99\n",
      "22\n",
      "5\n",
      "3\n",
      "7\n"
     ]
    }
   ],
   "source": [
    "llist = Linked_list()\n",
    "llist.head = Node(5)\n",
    "n2 = Node(3)\n",
    "llist.head.next = n2\n",
    "n3 = Node(7)\n",
    "n2.next = n3\n",
    "llist.traverse_LL()\n",
    "print(\"------------\")\n",
    "\n",
    "llist.insert_beg(22)\n",
    "llist.insert_beg(92)\n",
    "llist.insert_beg(51)\n",
    "llist.traverse_LL()\n",
    "print(\"------------\")\n",
    "\n",
    "llist.insert_at_pos(2,99)\n",
    "llist.traverse_LL()"
   ]
  },
  {
   "cell_type": "code",
   "execution_count": null,
   "metadata": {},
   "outputs": [],
   "source": []
  }
 ],
 "metadata": {
  "kernelspec": {
   "display_name": "Python 3",
   "language": "python",
   "name": "python3"
  },
  "language_info": {
   "codemirror_mode": {
    "name": "ipython",
    "version": 3
   },
   "file_extension": ".py",
   "mimetype": "text/x-python",
   "name": "python",
   "nbconvert_exporter": "python",
   "pygments_lexer": "ipython3",
   "version": "3.6.5"
  }
 },
 "nbformat": 4,
 "nbformat_minor": 2
}
